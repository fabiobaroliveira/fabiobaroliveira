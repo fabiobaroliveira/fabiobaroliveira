{
  "nbformat": 4,
  "nbformat_minor": 0,
  "metadata": {
    "colab": {
      "provenance": [],
      "toc_visible": true,
      "authorship_tag": "ABX9TyOkdLem131FVT7V89L/ITY1",
      "include_colab_link": true
    },
    "kernelspec": {
      "name": "python3",
      "display_name": "Python 3"
    },
    "language_info": {
      "name": "python"
    }
  },
  "cells": [
    {
      "cell_type": "markdown",
      "metadata": {
        "id": "view-in-github",
        "colab_type": "text"
      },
      "source": [
        "<a href=\"https://colab.research.google.com/github/fabiobaroliveira/fabiobaroliveira/blob/main/Livro_Pense_em_Python.ipynb\" target=\"_parent\"><img src=\"https://colab.research.google.com/assets/colab-badge.svg\" alt=\"Open In Colab\"/></a>"
      ]
    },
    {
      "cell_type": "markdown",
      "source": [
        "Este repositório estou criando apenas para fins didáticos e melhor fixação do contéudo do livro.\n",
        "\n",
        "Exercicíos propostos no livro \"Pensen em Python: pense como um cientista da computação\" de Alllen B. Downey"
      ],
      "metadata": {
        "id": "YLFoXhtZ1PL0"
      }
    },
    {
      "cell_type": "markdown",
      "source": [
        "##Capítulo 1 : A jornada do programa"
      ],
      "metadata": {
        "id": "RD8La_NZ5WE0"
      }
    },
    {
      "cell_type": "markdown",
      "source": [
        "#Exercício 1.1\n",
        "\n",
        "1. Em uma instrução print, o que acontese se você omitir um dos parênteses ou ambos?"
      ],
      "metadata": {
        "id": "Cj0S6r7W1aRL"
      }
    },
    {
      "cell_type": "code",
      "source": [
        "print(\"Hello, World!\""
      ],
      "metadata": {
        "colab": {
          "base_uri": "https://localhost:8080/",
          "height": 106
        },
        "id": "b0APgQuKnRd7",
        "outputId": "82be29a0-83e8-4416-9e1f-a13bbcc093b4"
      },
      "execution_count": 12,
      "outputs": [
        {
          "output_type": "error",
          "ename": "SyntaxError",
          "evalue": "incomplete input (<ipython-input-12-4459da64a047>, line 1)",
          "traceback": [
            "\u001b[0;36m  File \u001b[0;32m\"<ipython-input-12-4459da64a047>\"\u001b[0;36m, line \u001b[0;32m1\u001b[0m\n\u001b[0;31m    print(\"Hello, World!\"\u001b[0m\n\u001b[0m                         ^\u001b[0m\n\u001b[0;31mSyntaxError\u001b[0m\u001b[0;31m:\u001b[0m incomplete input\n"
          ]
        }
      ]
    },
    {
      "cell_type": "code",
      "source": [
        "print \"Hello, World!\"\n"
      ],
      "metadata": {
        "colab": {
          "base_uri": "https://localhost:8080/",
          "height": 106
        },
        "id": "5iAH_lTCoQil",
        "outputId": "7b5ab702-ce1f-4d01-9704-c5bd2b487f40"
      },
      "execution_count": 13,
      "outputs": [
        {
          "output_type": "error",
          "ename": "SyntaxError",
          "evalue": "Missing parentheses in call to 'print'. Did you mean print(...)? (<ipython-input-13-a1fcabcd869c>, line 1)",
          "traceback": [
            "\u001b[0;36m  File \u001b[0;32m\"<ipython-input-13-a1fcabcd869c>\"\u001b[0;36m, line \u001b[0;32m1\u001b[0m\n\u001b[0;31m    print \"Hello, World!\"\u001b[0m\n\u001b[0m    ^\u001b[0m\n\u001b[0;31mSyntaxError\u001b[0m\u001b[0;31m:\u001b[0m Missing parentheses in call to 'print'. Did you mean print(...)?\n"
          ]
        }
      ]
    },
    {
      "cell_type": "markdown",
      "source": [
        "2. Se estiver tentando imprimir uma string, o que acontece se omitir uma das aspas ou ambas?"
      ],
      "metadata": {
        "id": "-I49dwMb1wvk"
      }
    },
    {
      "cell_type": "code",
      "source": [
        "print(\"Hello, World!)"
      ],
      "metadata": {
        "colab": {
          "base_uri": "https://localhost:8080/",
          "height": 106
        },
        "id": "qR3rUr_bzMfs",
        "outputId": "13e7597d-8cc9-46ed-8b82-b05585dcb254"
      },
      "execution_count": 14,
      "outputs": [
        {
          "output_type": "error",
          "ename": "SyntaxError",
          "evalue": "unterminated string literal (detected at line 1) (<ipython-input-14-bc0808c61f64>, line 1)",
          "traceback": [
            "\u001b[0;36m  File \u001b[0;32m\"<ipython-input-14-bc0808c61f64>\"\u001b[0;36m, line \u001b[0;32m1\u001b[0m\n\u001b[0;31m    print(\"Hello, World!)\u001b[0m\n\u001b[0m          ^\u001b[0m\n\u001b[0;31mSyntaxError\u001b[0m\u001b[0;31m:\u001b[0m unterminated string literal (detected at line 1)\n"
          ]
        }
      ]
    },
    {
      "cell_type": "code",
      "source": [
        "print(Hello, World!)"
      ],
      "metadata": {
        "colab": {
          "base_uri": "https://localhost:8080/",
          "height": 106
        },
        "id": "rWkTB5xszOqH",
        "outputId": "3bc37028-ed7d-42f0-d58e-4647a9208851"
      },
      "execution_count": 15,
      "outputs": [
        {
          "output_type": "error",
          "ename": "SyntaxError",
          "evalue": "invalid syntax (<ipython-input-15-0eb003ed9968>, line 1)",
          "traceback": [
            "\u001b[0;36m  File \u001b[0;32m\"<ipython-input-15-0eb003ed9968>\"\u001b[0;36m, line \u001b[0;32m1\u001b[0m\n\u001b[0;31m    print(Hello, World!)\u001b[0m\n\u001b[0m                      ^\u001b[0m\n\u001b[0;31mSyntaxError\u001b[0m\u001b[0;31m:\u001b[0m invalid syntax\n"
          ]
        }
      ]
    },
    {
      "cell_type": "markdown",
      "source": [
        "3. Você pode usar um sinal de menos para fazer um número negativo como -2. O que acontece se puser um sinal de mais antes de um número? E se escrever assim: 2++2?"
      ],
      "metadata": {
        "id": "1TZxDh653udm"
      }
    },
    {
      "cell_type": "code",
      "source": [
        "2++2\n"
      ],
      "metadata": {
        "colab": {
          "base_uri": "https://localhost:8080/"
        },
        "id": "_EI1CfGA4QTC",
        "outputId": "929d405e-fb41-4aea-c74a-c252eae1b42d"
      },
      "execution_count": 16,
      "outputs": [
        {
          "output_type": "execute_result",
          "data": {
            "text/plain": [
              "4"
            ]
          },
          "metadata": {},
          "execution_count": 16
        }
      ]
    },
    {
      "cell_type": "markdown",
      "source": [
        "4. Na notação matemática, zeros á esquerda são aceitáveis, como em 02. O que acontece se você tentar usar isso em Python?"
      ],
      "metadata": {
        "id": "GVLhS5nl4Z4j"
      }
    },
    {
      "cell_type": "code",
      "source": [
        "02+10"
      ],
      "metadata": {
        "id": "ahZAGnJd4qgx"
      },
      "execution_count": null,
      "outputs": []
    },
    {
      "cell_type": "code",
      "source": [
        "2+10"
      ],
      "metadata": {
        "id": "uBl2zj0x4yfR"
      },
      "execution_count": null,
      "outputs": []
    },
    {
      "cell_type": "markdown",
      "source": [
        "5. O que acontece se você tiver dois valores sem nenhum operador entre eles?"
      ],
      "metadata": {
        "id": "REbieGbo47QD"
      }
    },
    {
      "cell_type": "code",
      "source": [
        "2 10"
      ],
      "metadata": {
        "colab": {
          "base_uri": "https://localhost:8080/",
          "height": 106
        },
        "id": "mQEu5vVf5CKC",
        "outputId": "99ea5fd5-501b-4cbc-d518-0db7d79f8461"
      },
      "execution_count": 17,
      "outputs": [
        {
          "output_type": "error",
          "ename": "SyntaxError",
          "evalue": "invalid syntax (<ipython-input-17-09bfc3c23582>, line 1)",
          "traceback": [
            "\u001b[0;36m  File \u001b[0;32m\"<ipython-input-17-09bfc3c23582>\"\u001b[0;36m, line \u001b[0;32m1\u001b[0m\n\u001b[0;31m    2 10\u001b[0m\n\u001b[0m      ^\u001b[0m\n\u001b[0;31mSyntaxError\u001b[0m\u001b[0;31m:\u001b[0m invalid syntax\n"
          ]
        }
      ]
    },
    {
      "cell_type": "markdown",
      "source": [
        "#Exercício 1.2\n",
        "\n",
        "Inicialize o interpretador do Python e use-o como calculadora."
      ],
      "metadata": {
        "id": "TdSbxwGn5Irj"
      }
    },
    {
      "cell_type": "markdown",
      "source": [
        "1. Quantos segundos há em 42 minutos e 42 segundos?"
      ],
      "metadata": {
        "id": "pciL_BMS5xfn"
      }
    },
    {
      "cell_type": "code",
      "source": [
        "x = (42*60)+ 42 #transformando minutos em segundos e somando os segundos restantes\n",
        "print(x)"
      ],
      "metadata": {
        "colab": {
          "base_uri": "https://localhost:8080/"
        },
        "id": "MNghII9T571U",
        "outputId": "5ee1400c-6e52-4d3d-c113-e7b8a8e41aaf"
      },
      "execution_count": 15,
      "outputs": [
        {
          "output_type": "stream",
          "name": "stdout",
          "text": [
            "2562\n"
          ]
        }
      ]
    },
    {
      "cell_type": "markdown",
      "source": [
        "2. Quantas milhas há em 10 quilômetros? Dica: uma milha equivale a 1,61 quilômetro."
      ],
      "metadata": {
        "id": "Z8ITiBVX7Bxl"
      }
    },
    {
      "cell_type": "code",
      "source": [
        "milhas = 10/1.61\n",
        "milhas_duas_casas = round(milhas,2)\n",
        "print('10 quilômetros em milhas equivalem há: '+ str(milhas_duas_casas) + ' milhas') #transformei o resultado em uma string para poder concatenar"
      ],
      "metadata": {
        "colab": {
          "base_uri": "https://localhost:8080/"
        },
        "id": "NWI3Zzco7Pbs",
        "outputId": "6fab6999-aef1-42e6-f369-172e0db39c37"
      },
      "execution_count": 29,
      "outputs": [
        {
          "output_type": "stream",
          "name": "stdout",
          "text": [
            "10 quilômetros em milhas equivalem há: 6.21 milhas\n"
          ]
        }
      ]
    },
    {
      "cell_type": "markdown",
      "source": [
        "3. Se você correr 10 quilômetros em 42 minutos e 42 segundos, qual é o seu passo médio (tempo por milha em minutos e segundos)?Qual é a sua velocidade média em milhas por hora?"
      ],
      "metadata": {
        "id": "NrMIhW7y8HW1"
      }
    },
    {
      "cell_type": "code",
      "source": [
        "\n",
        "distancia_total_km = 10\n",
        "distancia_total_milhas = 6.22\n",
        "tempo_total_em_segundos = 2562\n",
        "\n",
        "tempo_total_em_horas = tempo_total_em_segundos/3600 #converter o tempo em horas\n",
        "\n",
        "tempo_total_em_minutos = 42 + (42/60) #converter o tempo em minutos\n",
        "\n",
        "#Calculo do passo médio (ritmo)\n",
        "\n",
        "passo_medio_km = tempo_total_em_minutos / distancia_total_km\n",
        "\n",
        "passo_medio_milhas = tempo_total_em_minutos / distancia_total_milhas\n",
        "\n",
        "passo_medio_km_duas_casas = round(passo_medio_km,2)\n",
        "\n",
        "passo_medio_milhas_duas_casas = round(passo_medio_milhas,2)\n",
        "\n",
        "#Calculo de velocidade média\n",
        "\n",
        "v_media_km_h = distancia_total_km /tempo_total_em_horas\n",
        "\n",
        "v_media_km_h_duas_casas = round(v_media_km_h,2)\n",
        "\n",
        "v_media_milhas_h = distancia_total_milhas / tempo_total_em_horas\n",
        "\n",
        "v_media_milhas_h_duas_casas = round(v_media_milhas_h,2)\n",
        "\n",
        "print('O passo médio (ritmo) em Km/h é: ' + str(passo_medio_km_duas_casas))\n",
        "print('O passo médio (ritmo) em Milhas/h é: ' + str(passo_medio_milhas_duas_casas))\n",
        "print('A velocidade média em Km/h é: ' + str(v_media_km_h_duas_casas))\n",
        "print('A velocidade média em Milas/h é: ' + str(v_media_milhas_h_duas_casas))"
      ],
      "metadata": {
        "colab": {
          "base_uri": "https://localhost:8080/"
        },
        "id": "SlTFDxkR8eLb",
        "outputId": "a614c99e-9749-4e3d-b160-feca6059bdb9"
      },
      "execution_count": 37,
      "outputs": [
        {
          "output_type": "stream",
          "name": "stdout",
          "text": [
            "O passo médio (ritmo) em Km/h é: 4.27\n",
            "O passo médio (ritmo) em Milhas/h é: 6.86\n",
            "A velocidade média em Km/h é: 14.05\n",
            "A velocidade média em Milas/h é: 8.74\n"
          ]
        }
      ]
    },
    {
      "cell_type": "markdown",
      "source": [
        "##Capítulo 2: Variáveis, expressões e instruções"
      ],
      "metadata": {
        "id": "EiRuTpy2GgsN"
      }
    },
    {
      "cell_type": "markdown",
      "source": [
        "#Exercício 2.1"
      ],
      "metadata": {
        "id": "dcRP0sxDJmY6"
      }
    },
    {
      "cell_type": "markdown",
      "source": [
        "Repetindo o meu conselho do capítulo anterior; sempre que você aprender um recurso novo, você deve testá-lo no modo interativo e fazer erros de propósito para ver o que acontece."
      ],
      "metadata": {
        "id": "POyC4ok2Jr_q"
      }
    },
    {
      "cell_type": "code",
      "source": [
        "#Vimos que n = 42 é legal. E\n",
        "\n",
        "42 = n"
      ],
      "metadata": {
        "id": "4SPQCveOKXsn"
      },
      "execution_count": null,
      "outputs": []
    },
    {
      "cell_type": "code",
      "source": [
        "#Ou\n",
        "\n",
        "x = y = 1"
      ],
      "metadata": {
        "id": "VZ9rtCfSKiuH"
      },
      "execution_count": 39,
      "outputs": []
    },
    {
      "cell_type": "markdown",
      "source": [
        "Em algumas linguagens , cada instrução termina em um ponto e vírgula. O que acontece se você puser um ponto e vírgula no fim de um instrução em Python?"
      ],
      "metadata": {
        "id": "Ua_og5gnKut4"
      }
    },
    {
      "cell_type": "code",
      "source": [
        "42 + 12;"
      ],
      "metadata": {
        "id": "CDalsAA5LBFj"
      },
      "execution_count": 40,
      "outputs": []
    },
    {
      "cell_type": "code",
      "source": [
        "x = \"xyz\";\n",
        "print(x)"
      ],
      "metadata": {
        "id": "VFdIJIRfLIX3"
      },
      "execution_count": null,
      "outputs": []
    },
    {
      "cell_type": "code",
      "source": [
        "x = 42\n",
        "print(x);"
      ],
      "metadata": {
        "id": "2kyASwqQLYNB"
      },
      "execution_count": null,
      "outputs": []
    },
    {
      "cell_type": "markdown",
      "source": [
        "E se puser um ponto no fim de cada uma instrução?"
      ],
      "metadata": {
        "id": "bwynTlzTLxBo"
      }
    },
    {
      "cell_type": "code",
      "source": [
        "78+9."
      ],
      "metadata": {
        "id": "v3UZ2hkNL2ZO",
        "outputId": "e0503c80-c41c-4269-c531-4ab6f28467f6",
        "colab": {
          "base_uri": "https://localhost:8080/"
        }
      },
      "execution_count": 50,
      "outputs": [
        {
          "output_type": "execute_result",
          "data": {
            "text/plain": [
              "87.0"
            ]
          },
          "metadata": {},
          "execution_count": 50
        }
      ]
    },
    {
      "cell_type": "code",
      "source": [
        "x = 45\n",
        "x*2."
      ],
      "metadata": {
        "id": "pVvGHamtL62R",
        "outputId": "8fa85244-94e0-4699-abe5-8fb79a43f948",
        "colab": {
          "base_uri": "https://localhost:8080/"
        }
      },
      "execution_count": 52,
      "outputs": [
        {
          "output_type": "execute_result",
          "data": {
            "text/plain": [
              "90.0"
            ]
          },
          "metadata": {},
          "execution_count": 52
        }
      ]
    },
    {
      "cell_type": "code",
      "source": [
        "print('texto')."
      ],
      "metadata": {
        "id": "pin4Mx12MC6I"
      },
      "execution_count": null,
      "outputs": []
    },
    {
      "cell_type": "markdown",
      "source": [
        "Em notação matemática é possível multiplicar m e n desta forma: mn. O que acontece se você tentar fazer o mesmo em Python?"
      ],
      "metadata": {
        "id": "w0ygLT5zMWo8"
      }
    },
    {
      "cell_type": "code",
      "source": [
        "m*n"
      ],
      "metadata": {
        "id": "UM597k3xMj4y"
      },
      "execution_count": null,
      "outputs": []
    },
    {
      "cell_type": "code",
      "source": [
        "mn"
      ],
      "metadata": {
        "id": "3bhiy4urM0mt"
      },
      "execution_count": null,
      "outputs": []
    },
    {
      "cell_type": "markdown",
      "source": [
        "#Exercício 2.2\n",
        "\n",
        "Pratique o uso do intepretador do Python como calculadora:"
      ],
      "metadata": {
        "id": "sTy63SPmNBSo"
      }
    },
    {
      "cell_type": "markdown",
      "source": [
        "1. O volume de um esfera com o raio r é 4/3 pi r³. Qual é o volume de uma esfera com raio 5?\n"
      ],
      "metadata": {
        "id": "w8v_9wdkNQAf"
      }
    },
    {
      "cell_type": "code",
      "source": [
        "r = 5\n",
        "pi = 3.14\n",
        "\n",
        "volume = (4/3)*pi*(r**3)\n",
        "print(volume)"
      ],
      "metadata": {
        "id": "8fKF-Rr5R3j-",
        "outputId": "c2a117a5-2b68-4f5e-e3f5-5110997adf27",
        "colab": {
          "base_uri": "https://localhost:8080/"
        }
      },
      "execution_count": 6,
      "outputs": [
        {
          "output_type": "stream",
          "name": "stdout",
          "text": [
            "523.3333333333334\n"
          ]
        }
      ]
    },
    {
      "cell_type": "markdown",
      "source": [
        "2. Suponha que o preço de capa de um livro seja 24,95 reais, mas as livrarias recebem um desconto de 40% . O transporte custa 3,00 reais para o primeiro exemplar e 75 centavos para cada exemplar adicional. Qual é o custo total de atacado para 60 cópias?"
      ],
      "metadata": {
        "id": "ht9BXAwZJIJm"
      }
    },
    {
      "cell_type": "code",
      "source": [
        "livro_sem_desc = 24.95\n",
        "desconto = 0.4\n",
        "transporte = 3\n",
        "qtde_de_livros = 60\n",
        "\n",
        "livro_com_desc = livro_sem_desc * desconto\n",
        "\n",
        "if qtde_de_livros <= 1:\n",
        "    preco_total_compra = (livro_com_desc * qtde_de_livros) + (transporte)\n",
        "    print(preco_total_compra)\n",
        "\n",
        "elif qtde_de_livros > 1:\n",
        "  preco_total_compra = (livro_com_desc * qtde_de_livros) + (transporte) + (qtde_de_livros - 1)* (transporte / 4)\n",
        "  print('O valor total da compra de '+ str(qtde_de_livros) + ' livros mais o frete foi ' + str(round(preco_total_compra,2)))\n",
        "\n",
        "\n",
        "#print(str(preco_total_compra))\n",
        "#print(str(livro_com_desc))\n",
        "\n"
      ],
      "metadata": {
        "id": "UluHyW1UKKhI",
        "outputId": "7a02d487-904e-4484-8914-b5442100c159",
        "colab": {
          "base_uri": "https://localhost:8080/"
        }
      },
      "execution_count": 34,
      "outputs": [
        {
          "output_type": "stream",
          "name": "stdout",
          "text": [
            "O valor total da compra de 60 livros mais o frete foi 646.05\n"
          ]
        }
      ]
    },
    {
      "cell_type": "markdown",
      "source": [
        "3. Se eu sair da minha casa ás 6:52 e correr 1 quilômetro a um certo passo (8min15s por quilômetro), então 3 quilômetros a um passo mais rápido(7min12s por quilômetro) e 1 quilômetro no mesmo passo usado em primeiro lugar, que horas chego em casa para o café da manhã?"
      ],
      "metadata": {
        "id": "tu__BF-3S7cV"
      }
    },
    {
      "cell_type": "code",
      "source": [
        "pace_1 = 8.15\n",
        "pace_2 = 7.12\n",
        "\n",
        "corrida = pace_1 + 3 * pace_2 + pace_1\n",
        "print('Tempo a adicionar a hora de chegada: ' + str(corrida))"
      ],
      "metadata": {
        "id": "D5X4wLqUTfT_",
        "outputId": "308097cd-8b28-4688-82e6-b3b01679cdf5",
        "colab": {
          "base_uri": "https://localhost:8080/"
        }
      },
      "execution_count": 38,
      "outputs": [
        {
          "output_type": "stream",
          "name": "stdout",
          "text": [
            "Tempo a adicionar a hora de chegada: 37.66\n"
          ]
        }
      ]
    },
    {
      "cell_type": "code",
      "source": [
        "hora = 6\n",
        "minuto = 52\n",
        "segundo = 0\n",
        "minuto_adcional = 37\n",
        "segundo_adcional = 66\n",
        "\n",
        "#transforma todo o tempo em segundos para somar\n",
        "total_segundos = hora * 3600 + minuto * 60 + segundo + minuto_adcional * 60 + segundo_adcional\n",
        "\n",
        "#converter de volta para horas, minutos e segundos\n",
        "nova_hora = total_segundos // 3600\n",
        "novos_minutos = (total_segundos % 3600) // 60\n",
        "novos_segundos = total_segundos % 60\n",
        "\n",
        "print('Horário de chegada: ' + str(nova_hora) + ':' + str(novos_minutos))\n"
      ],
      "metadata": {
        "id": "uCs3e6ZEXD-N",
        "outputId": "bc3b52ae-7e6a-4314-bcae-cfe5ec3d87a5",
        "colab": {
          "base_uri": "https://localhost:8080/"
        }
      },
      "execution_count": 42,
      "outputs": [
        {
          "output_type": "stream",
          "name": "stdout",
          "text": [
            "Horário de chegada: 7:30\n"
          ]
        }
      ]
    }
  ]
}