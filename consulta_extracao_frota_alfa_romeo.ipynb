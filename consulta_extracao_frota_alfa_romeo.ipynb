{
  "nbformat": 4,
  "nbformat_minor": 0,
  "metadata": {
    "colab": {
      "provenance": [],
      "authorship_tag": "ABX9TyP/Pq9u+xRtmdGk7w1odA6y",
      "include_colab_link": true
    },
    "kernelspec": {
      "name": "python3",
      "display_name": "Python 3"
    },
    "language_info": {
      "name": "python"
    }
  },
  "cells": [
    {
      "cell_type": "markdown",
      "metadata": {
        "id": "view-in-github",
        "colab_type": "text"
      },
      "source": [
        "<a href=\"https://colab.research.google.com/github/fabiobaroliveira/fabiobaroliveira/blob/main/consulta_extracao_frota_alfa_romeo.ipynb\" target=\"_parent\"><img src=\"https://colab.research.google.com/assets/colab-badge.svg\" alt=\"Open In Colab\"/></a>"
      ]
    },
    {
      "cell_type": "markdown",
      "source": [
        "#Consulta e extração de informações sobre a frota nacional, espeficicando uma montadora."
      ],
      "metadata": {
        "id": "ngoTpTAdwxID"
      }
    },
    {
      "cell_type": "code",
      "source": [
        "import requests\n",
        "import zipfile\n",
        "import io\n",
        "import os\n",
        "import pandas as pd"
      ],
      "metadata": {
        "id": "W7QhqUHWzfr2"
      },
      "execution_count": null,
      "outputs": []
    },
    {
      "cell_type": "code",
      "execution_count": 13,
      "metadata": {
        "colab": {
          "base_uri": "https://localhost:8080/"
        },
        "id": "kUkkenKYFn2b",
        "outputId": "33608e2b-4730-4c65-d2f6-1a95bc0d766b"
      },
      "outputs": [
        {
          "output_type": "stream",
          "name": "stdout",
          "text": [
            "Arquivo baixado e extraído com sucesso!\n",
            "Arquivo renomeado para: dados_extraidos/base_de_dados.txt\n"
          ]
        }
      ],
      "source": [
        "# import requests\n",
        "# import zipfile\n",
        "# import io\n",
        "# import os\n",
        "\n",
        "# URL do arquivo .zip\n",
        "url = 'https://dados.transportes.gov.br/dataset/12686da0-3d71-4499-b432-d270f785c907/resource/fc7e76f6-a46f-4c90-a952-2dc6d2bd8196/download/i_frota_por_uf_municipio_marca_e_modelo_ano_dezembro_2024.zip'\n",
        "\n",
        "# Faz o download do arquivo\n",
        "response = requests.get(url)\n",
        "\n",
        "# Verifica se o download foi bem-sucedido\n",
        "if response.status_code == 200:\n",
        "    # Salva o conteúdo do arquivo .zip em um objeto BytesIO\n",
        "    zip_file = zipfile.ZipFile(io.BytesIO(response.content))\n",
        "\n",
        "    # Extrai o conteúdo do arquivo .zip\n",
        "    zip_file.extractall('dados_extraidos')  # Extrai para a pasta 'dados_extraidos'\n",
        "    print(\"Arquivo baixado e extraído com sucesso!\")\n",
        "\n",
        "    # Renomeia o arquivo\n",
        "    caminho_original = os.path.join('dados_extraidos', 'Layout I.TXT')\n",
        "    novo_nome = os.path.join('dados_extraidos', 'base_de_dados.txt')\n",
        "\n",
        "    if os.path.exists(caminho_original):\n",
        "        os.rename(caminho_original, novo_nome)\n",
        "        print(f\"Arquivo renomeado para: {novo_nome}\")\n",
        "    else:\n",
        "        print(\"Arquivo original não encontrado.\")\n",
        "else:\n",
        "    print(f\"Erro ao baixar o arquivo: {response.status_code}\")"
      ]
    },
    {
      "cell_type": "code",
      "source": [
        "# Abra o arquivo no modo de leitura e codificar para 'utf-8'\n",
        "with open(\"dados_extraidos/base_de_dados.txt\",\"r\", encoding=\"utf-8\") as arquivo:\n",
        "    primeira_linha = arquivo.readline()\n",
        "\n",
        "# Exibe o conteúdo da primeira linha\n",
        "print(primeira_linha)\n"
      ],
      "metadata": {
        "colab": {
          "base_uri": "https://localhost:8080/"
        },
        "id": "Krlwy9QgJlad",
        "outputId": "843fd6c7-e4ce-4018-f1fe-3b888889a99a"
      },
      "execution_count": 14,
      "outputs": [
        {
          "output_type": "stream",
          "name": "stdout",
          "text": [
            "UF;Município;Marca Modelo;Ano Fabricação Veículo CRV;Qtd. Veículos\n",
            "\n"
          ]
        }
      ]
    },
    {
      "cell_type": "code",
      "source": [
        "# Abra o arquivo no modo de leitura\n",
        "with open(\"dados_extraidos/base_de_dados.txt\",\"r\", encoding=\"utf-8\") as arquivo:\n",
        "    # Leia as 10 primeiras linhas\n",
        "    for i in range(10):\n",
        "        linha = arquivo.readline()\n",
        "        # Exibe a linha atual\n",
        "        print(linha.strip())"
      ],
      "metadata": {
        "colab": {
          "base_uri": "https://localhost:8080/"
        },
        "id": "hYG2C8z-Mma7",
        "outputId": "6c98b8b2-22c6-4d9f-d4b8-398024634b52"
      },
      "execution_count": 15,
      "outputs": [
        {
          "output_type": "stream",
          "name": "stdout",
          "text": [
            "UF;Município;Marca Modelo;Ano Fabricação Veículo CRV;Qtd. Veículos\n",
            "ACRE;ACRELANDIA;AGRALE/13000;2009; 1.0\n",
            "ACRE;ACRELANDIA;AGRALE/1800;1989; 1.0\n",
            "ACRE;ACRELANDIA;AGRALE/1800;1990; 1.0\n",
            "ACRE;ACRELANDIA;AGRALE/1800D RD;1989; 1.0\n",
            "ACRE;ACRELANDIA;AGRALE/1800D RD;1990; 2.0\n",
            "ACRE;ACRELANDIA;AGRALE/1800D RD;1993; 1.0\n",
            "ACRE;ACRELANDIA;AGRALE/6000 D;2005; 1.0\n",
            "ACRE;ACRELANDIA;AGRALE/6000 D;2008; 1.0\n",
            "ACRE;ACRELANDIA;AGRALE/6000 D;2010; 1.0\n"
          ]
        }
      ]
    },
    {
      "cell_type": "code",
      "source": [
        "# Abra o arquivo no modo de leitura\n",
        "with open('dados_extraidos/base_de_dados.txt', 'r', encoding='utf-8') as arquivo:\n",
        "    linhas = arquivo.readlines()  # Lê todas as linhas\n",
        "\n",
        "# Lê uma linha escolhida\n",
        "linha_escolhida = linhas[973080]\n",
        "print(f\"Linha_escolhida: {linha_escolhida.strip()}\")"
      ],
      "metadata": {
        "colab": {
          "base_uri": "https://localhost:8080/"
        },
        "id": "-6Azx5mAMwKW",
        "outputId": "549fa3f6-623a-48cd-eb48-5232bff408c2"
      },
      "execution_count": 16,
      "outputs": [
        {
          "output_type": "stream",
          "name": "stdout",
          "text": [
            "Linha_escolhida: BAHIA;JOAO DOURADO;GM/CARAVAN COMODORO SL/E;1988; 6.0\n"
          ]
        }
      ]
    },
    {
      "cell_type": "code",
      "source": [
        "# Abra o arquivo no modo de leitura\n",
        "with open('dados_extraidos/base_de_dados.txt', 'r', encoding='utf-8') as arquivo:\n",
        "    linhas = arquivo.readlines()  # Lê todas as linhas\n",
        "\n",
        "# Filtrar as linhas que contêm \"ALFA ROMEO\"\n",
        "linhas_filtradas = [linha for linha in linhas if \"ALFA ROMEO\" in linha]\n",
        "\n",
        "# Caminho para o novo arquivo\n",
        "novo_arquivo_path = \"frota_alfa_romeo.txt\"\n",
        "\n",
        "# Salvar as linhas filtradas em um novo arquivo\n",
        "with open(novo_arquivo_path, 'w', encoding='utf-8') as novo_arquivo:\n",
        "    novo_arquivo.writelines(linhas_filtradas)\n",
        "\n",
        "print(f\"O arquivo com os veículos ALFA ROMEO foi salvo em: {novo_arquivo_path}\")"
      ],
      "metadata": {
        "colab": {
          "base_uri": "https://localhost:8080/"
        },
        "id": "6QXcOvWFNJOg",
        "outputId": "01203206-1497-4777-f1fd-23b8526bdc95"
      },
      "execution_count": 26,
      "outputs": [
        {
          "output_type": "stream",
          "name": "stdout",
          "text": [
            "O arquivo com os veículos ALFA ROMEO foi salvo em: frota_alfa_romeo.txt\n"
          ]
        }
      ]
    },
    {
      "cell_type": "code",
      "source": [
        "# Abra o arquivo no modo de leitura\n",
        "with open(\"frota_alfa_romeo.txt\",\"r\", encoding=\"utf-8\") as arquivo:\n",
        "    # Leia as 10 primeiras linhas\n",
        "    for i in range(10):\n",
        "        linha = arquivo.readline()\n",
        "        # Exibe a linha atual\n",
        "        display(linha.strip())"
      ],
      "metadata": {
        "colab": {
          "base_uri": "https://localhost:8080/",
          "height": 201
        },
        "id": "Bb9DDo5hNUWS",
        "outputId": "d6691f54-e8dc-42e9-9901-22f81790f97d"
      },
      "execution_count": 27,
      "outputs": [
        {
          "output_type": "display_data",
          "data": {
            "text/plain": [
              "'ACRE;RIO BRANCO;I/ALFA ROMEO 156;1998; 1.0'"
            ],
            "application/vnd.google.colaboratory.intrinsic+json": {
              "type": "string"
            }
          },
          "metadata": {}
        },
        {
          "output_type": "display_data",
          "data": {
            "text/plain": [
              "'ALAGOAS;ARAPIRACA;FIAT/ALFA ROMEO 2300;1976; 1.0'"
            ],
            "application/vnd.google.colaboratory.intrinsic+json": {
              "type": "string"
            }
          },
          "metadata": {}
        },
        {
          "output_type": "display_data",
          "data": {
            "text/plain": [
              "'ALAGOAS;ARAPIRACA;FIAT/ALFA ROMEO 2300;1977; 1.0'"
            ],
            "application/vnd.google.colaboratory.intrinsic+json": {
              "type": "string"
            }
          },
          "metadata": {}
        },
        {
          "output_type": "display_data",
          "data": {
            "text/plain": [
              "'ALAGOAS;MACEIO;FIAT/ALFA ROMEO;1982; 1.0'"
            ],
            "application/vnd.google.colaboratory.intrinsic+json": {
              "type": "string"
            }
          },
          "metadata": {}
        },
        {
          "output_type": "display_data",
          "data": {
            "text/plain": [
              "'ALAGOAS;MACEIO;FIAT/ALFA ROMEO;1986; 1.0'"
            ],
            "application/vnd.google.colaboratory.intrinsic+json": {
              "type": "string"
            }
          },
          "metadata": {}
        },
        {
          "output_type": "display_data",
          "data": {
            "text/plain": [
              "'ALAGOAS;MACEIO;I/ALFA ROMEO 145;1996; 2.0'"
            ],
            "application/vnd.google.colaboratory.intrinsic+json": {
              "type": "string"
            }
          },
          "metadata": {}
        },
        {
          "output_type": "display_data",
          "data": {
            "text/plain": [
              "'ALAGOAS;MACEIO;I/ALFA ROMEO 145;1998; 2.0'"
            ],
            "application/vnd.google.colaboratory.intrinsic+json": {
              "type": "string"
            }
          },
          "metadata": {}
        },
        {
          "output_type": "display_data",
          "data": {
            "text/plain": [
              "'ALAGOAS;MACEIO;I/ALFA ROMEO 156;1998; 8.0'"
            ],
            "application/vnd.google.colaboratory.intrinsic+json": {
              "type": "string"
            }
          },
          "metadata": {}
        },
        {
          "output_type": "display_data",
          "data": {
            "text/plain": [
              "'ALAGOAS;MACEIO;I/ALFA ROMEO 156;2000; 2.0'"
            ],
            "application/vnd.google.colaboratory.intrinsic+json": {
              "type": "string"
            }
          },
          "metadata": {}
        },
        {
          "output_type": "display_data",
          "data": {
            "text/plain": [
              "'ALAGOAS;MACEIO;IMP/ALFA ROMEO;1981; 1.0'"
            ],
            "application/vnd.google.colaboratory.intrinsic+json": {
              "type": "string"
            }
          },
          "metadata": {}
        }
      ]
    },
    {
      "cell_type": "code",
      "source": [
        "# Importar a biblioteca pandas\n",
        "# import pandas as pd\n",
        "\n",
        "# Ler o arquivo\n",
        "file_path = \"frota_alfa_romeo.txt\"\n",
        "df = pd.read_csv(file_path, delimiter=';')\n",
        "\n",
        "# Obter o número de linhas e colunas\n",
        "num_linhas, num_colunas = df.shape\n",
        "\n",
        "# Exibir os resultados\n",
        "print(f\"Número de linhas: {num_linhas}\")\n",
        "print(f\"Número de colunas: {num_colunas}\")"
      ],
      "metadata": {
        "colab": {
          "base_uri": "https://localhost:8080/"
        },
        "id": "pb8dvwTQNdB6",
        "outputId": "01a1d426-e689-462e-fa55-caab6e069a06"
      },
      "execution_count": 28,
      "outputs": [
        {
          "output_type": "stream",
          "name": "stdout",
          "text": [
            "Número de linhas: 7056\n",
            "Número de colunas: 5\n"
          ]
        }
      ]
    },
    {
      "cell_type": "code",
      "source": [
        "# import os\n",
        "\n",
        "# Caminho do arquivo original\n",
        "caminho_arquivo_original = \"frota_alfa_romeo.txt\"\n",
        "\n",
        "# Caminho do arquivo temporário\n",
        "caminho_arquivo_temporario = \"frota_alfa_romeo_temp.txt\"\n",
        "\n",
        "# Abre o arquivo original para leitura e o temporário para escrita\n",
        "with open(caminho_arquivo_original, \"r\", encoding=\"utf-8\") as arquivo_original, \\\n",
        "     open(caminho_arquivo_temporario, \"w\", encoding=\"utf-8\") as arquivo_temporario:\n",
        "\n",
        "    # Lê cada linha do arquivo original\n",
        "    for linha in arquivo_original:\n",
        "        # Substitui '/' por ';'\n",
        "        linha_modificada = linha.replace(\"/\", \";\")\n",
        "\n",
        "        # Escreve a linha modificada no arquivo temporário\n",
        "        arquivo_temporario.write(linha_modificada)\n",
        "\n",
        "# Substitui o arquivo original pelo temporário\n",
        "os.replace(caminho_arquivo_temporario, caminho_arquivo_original)\n",
        "\n",
        "print(\"Substituição concluída. Arquivo original foi atualizado.\")"
      ],
      "metadata": {
        "colab": {
          "base_uri": "https://localhost:8080/"
        },
        "id": "Nqp4TMDwRzWb",
        "outputId": "dab9ff84-e4b0-4ec8-80ac-722055530a5b"
      },
      "execution_count": 29,
      "outputs": [
        {
          "output_type": "stream",
          "name": "stdout",
          "text": [
            "Substituição concluída. Arquivo original foi atualizado.\n"
          ]
        }
      ]
    },
    {
      "cell_type": "code",
      "source": [
        "# Importar a biblioteca pandas\n",
        "# import pandas as pd\n",
        "\n",
        "# Ler o arquivo\n",
        "file_path = \"frota_alfa_romeo.txt\"\n",
        "df = pd.read_csv(file_path, delimiter=';')\n",
        "\n",
        "# Obter o número de linhas e colunas\n",
        "num_linhas, num_colunas = df.shape\n",
        "\n",
        "# Exibir os resultados\n",
        "print(f\"Número de linhas: {num_linhas}\")\n",
        "print(f\"Número de colunas: {num_colunas}\")"
      ],
      "metadata": {
        "colab": {
          "base_uri": "https://localhost:8080/"
        },
        "id": "UShWL-1-TkkJ",
        "outputId": "e568a3a2-5d29-47a5-c645-5f8944c72d73"
      },
      "execution_count": 30,
      "outputs": [
        {
          "output_type": "stream",
          "name": "stdout",
          "text": [
            "Número de linhas: 7056\n",
            "Número de colunas: 6\n"
          ]
        }
      ]
    },
    {
      "cell_type": "code",
      "source": [
        "# Abra o arquivo no modo de leitura\n",
        "with open(\"frota_alfa_romeo.txt\",\"r\", encoding=\"utf-8\") as arquivo:\n",
        "    # Leia as 10 primeiras linhas\n",
        "    for i in range(10):\n",
        "        linha = arquivo.readline()\n",
        "        # Exibe a linha atual\n",
        "        display(linha.strip())"
      ],
      "metadata": {
        "colab": {
          "base_uri": "https://localhost:8080/",
          "height": 201
        },
        "id": "PMj1RU_oTpmF",
        "outputId": "e8fd5767-1b39-4ae1-ba95-071946c0b848"
      },
      "execution_count": 31,
      "outputs": [
        {
          "output_type": "display_data",
          "data": {
            "text/plain": [
              "'ACRE;RIO BRANCO;I;ALFA ROMEO 156;1998; 1.0'"
            ],
            "application/vnd.google.colaboratory.intrinsic+json": {
              "type": "string"
            }
          },
          "metadata": {}
        },
        {
          "output_type": "display_data",
          "data": {
            "text/plain": [
              "'ALAGOAS;ARAPIRACA;FIAT;ALFA ROMEO 2300;1976; 1.0'"
            ],
            "application/vnd.google.colaboratory.intrinsic+json": {
              "type": "string"
            }
          },
          "metadata": {}
        },
        {
          "output_type": "display_data",
          "data": {
            "text/plain": [
              "'ALAGOAS;ARAPIRACA;FIAT;ALFA ROMEO 2300;1977; 1.0'"
            ],
            "application/vnd.google.colaboratory.intrinsic+json": {
              "type": "string"
            }
          },
          "metadata": {}
        },
        {
          "output_type": "display_data",
          "data": {
            "text/plain": [
              "'ALAGOAS;MACEIO;FIAT;ALFA ROMEO;1982; 1.0'"
            ],
            "application/vnd.google.colaboratory.intrinsic+json": {
              "type": "string"
            }
          },
          "metadata": {}
        },
        {
          "output_type": "display_data",
          "data": {
            "text/plain": [
              "'ALAGOAS;MACEIO;FIAT;ALFA ROMEO;1986; 1.0'"
            ],
            "application/vnd.google.colaboratory.intrinsic+json": {
              "type": "string"
            }
          },
          "metadata": {}
        },
        {
          "output_type": "display_data",
          "data": {
            "text/plain": [
              "'ALAGOAS;MACEIO;I;ALFA ROMEO 145;1996; 2.0'"
            ],
            "application/vnd.google.colaboratory.intrinsic+json": {
              "type": "string"
            }
          },
          "metadata": {}
        },
        {
          "output_type": "display_data",
          "data": {
            "text/plain": [
              "'ALAGOAS;MACEIO;I;ALFA ROMEO 145;1998; 2.0'"
            ],
            "application/vnd.google.colaboratory.intrinsic+json": {
              "type": "string"
            }
          },
          "metadata": {}
        },
        {
          "output_type": "display_data",
          "data": {
            "text/plain": [
              "'ALAGOAS;MACEIO;I;ALFA ROMEO 156;1998; 8.0'"
            ],
            "application/vnd.google.colaboratory.intrinsic+json": {
              "type": "string"
            }
          },
          "metadata": {}
        },
        {
          "output_type": "display_data",
          "data": {
            "text/plain": [
              "'ALAGOAS;MACEIO;I;ALFA ROMEO 156;2000; 2.0'"
            ],
            "application/vnd.google.colaboratory.intrinsic+json": {
              "type": "string"
            }
          },
          "metadata": {}
        },
        {
          "output_type": "display_data",
          "data": {
            "text/plain": [
              "'ALAGOAS;MACEIO;IMP;ALFA ROMEO;1981; 1.0'"
            ],
            "application/vnd.google.colaboratory.intrinsic+json": {
              "type": "string"
            }
          },
          "metadata": {}
        }
      ]
    },
    {
      "cell_type": "code",
      "source": [
        "# import os\n",
        "\n",
        "# Caminho do arquivo original\n",
        "caminho_arquivo_original = \"frota_alfa_romeo.txt\"\n",
        "\n",
        "# Caminho do arquivo temporário (use um nome diferente)\n",
        "caminho_arquivo_temporario = \"frota_alfa_romeo_temp.txt\"\n",
        "\n",
        "# Abre o arquivo original para leitura e o arquivo temporário para escrita\n",
        "with open(caminho_arquivo_original, \"r\", encoding=\"utf-8\") as arquivo_original, \\\n",
        "     open(caminho_arquivo_temporario, \"w\", encoding=\"utf-8\") as arquivo_modificado:\n",
        "\n",
        "    # Lê cada linha do arquivo original\n",
        "    for linha in arquivo_original:\n",
        "        # Remove espaços em branco no início/fim da linha\n",
        "        linha = linha.strip()\n",
        "\n",
        "        # Divide as colunas pelo separador ';'\n",
        "        colunas = linha.split(\";\")\n",
        "\n",
        "        # Verifica se a linha tem colunas suficientes\n",
        "        if len(colunas) >= 6: # Pega o valor da última coluna\n",
        "            valor_numerico = colunas[-1]\n",
        "\n",
        "            # Remove a parte decimal (tudo após o ponto)\n",
        "            valor_inteiro = valor_numerico.split(\".\")[0]\n",
        "\n",
        "            # Atualiza a última coluna com o valor inteiro\n",
        "            colunas[-1] = valor_inteiro\n",
        "\n",
        "        # Junta as colunas de volta com o separador ';'\n",
        "        linha_modificada = \";\".join(colunas)\n",
        "\n",
        "        # Escreve a linha modificada no arquivo temporário\n",
        "        arquivo_modificado.write(linha_modificada + \"\\n\")\n",
        "\n",
        "# Substitui o arquivo original pelo temporário\n",
        "os.replace(caminho_arquivo_temporario, caminho_arquivo_original)\n",
        "\n",
        "print(\"Substituição concluída. Arquivo original foi atualizado.\")"
      ],
      "metadata": {
        "colab": {
          "base_uri": "https://localhost:8080/"
        },
        "id": "GLujpSGSV6ve",
        "outputId": "626bf390-0b7e-4abb-a742-62f894465f76"
      },
      "execution_count": 32,
      "outputs": [
        {
          "output_type": "stream",
          "name": "stdout",
          "text": [
            "Substituição concluída. Arquivo original foi atualizado.\n"
          ]
        }
      ]
    },
    {
      "cell_type": "code",
      "source": [
        "# Abra o arquivo no modo de leitura\n",
        "with open(\"frota_alfa_romeo.txt\",\"r\", encoding=\"utf-8\") as arquivo:\n",
        "    # Leia as 10 primeiras linhas\n",
        "    for i in range(10):\n",
        "        linha = arquivo.readline()\n",
        "        # Exibe a linha atual\n",
        "        print(linha.strip())"
      ],
      "metadata": {
        "colab": {
          "base_uri": "https://localhost:8080/"
        },
        "id": "kJHpMq4nXn1k",
        "outputId": "76c976fb-a746-4126-f0e9-f266424f8722"
      },
      "execution_count": 34,
      "outputs": [
        {
          "output_type": "stream",
          "name": "stdout",
          "text": [
            "ACRE;RIO BRANCO;I;ALFA ROMEO 156;1998; 1\n",
            "ALAGOAS;ARAPIRACA;FIAT;ALFA ROMEO 2300;1976; 1\n",
            "ALAGOAS;ARAPIRACA;FIAT;ALFA ROMEO 2300;1977; 1\n",
            "ALAGOAS;MACEIO;FIAT;ALFA ROMEO;1982; 1\n",
            "ALAGOAS;MACEIO;FIAT;ALFA ROMEO;1986; 1\n",
            "ALAGOAS;MACEIO;I;ALFA ROMEO 145;1996; 2\n",
            "ALAGOAS;MACEIO;I;ALFA ROMEO 145;1998; 2\n",
            "ALAGOAS;MACEIO;I;ALFA ROMEO 156;1998; 8\n",
            "ALAGOAS;MACEIO;I;ALFA ROMEO 156;2000; 2\n",
            "ALAGOAS;MACEIO;IMP;ALFA ROMEO;1981; 1\n"
          ]
        }
      ]
    },
    {
      "cell_type": "code",
      "source": [
        "# import pandas as pd\n",
        "\n",
        "arquivo_txt = \"frota_alfa_romeo.txt\"\n",
        "arquivo_csv = \"frota_alfa_romeo.csv\"\n",
        "\n",
        "df = pd.read_csv(arquivo_txt, sep=\";\", header=None)\n",
        "df.to_csv(arquivo_csv, index=False, header=False)\n",
        "\n",
        "print(f\"Arquivo CSV gerado em: {arquivo_csv}\")\n"
      ],
      "metadata": {
        "colab": {
          "base_uri": "https://localhost:8080/"
        },
        "id": "pYN9HCszto9m",
        "outputId": "1dc56d68-1e13-4deb-968d-09462b488b9b"
      },
      "execution_count": 37,
      "outputs": [
        {
          "output_type": "stream",
          "name": "stdout",
          "text": [
            "Arquivo CSV gerado em: frota_alfa_romeo.csv\n"
          ]
        }
      ]
    }
  ]
}